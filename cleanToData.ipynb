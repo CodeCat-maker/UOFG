{
 "cells": [
  {
   "cell_type": "code",
   "execution_count": 7,
   "id": "a1d838f8-97ae-4110-b151-05badc5cabaa",
   "metadata": {},
   "outputs": [
    {
     "name": "stdout",
     "output_type": "stream",
     "text": [
      "start\n",
      "          timestamp  position-y  position-z\n",
      "80641  1.721643e+09   -0.001515    0.315035\n",
      "80642  1.721643e+09   -0.001505    0.315014\n",
      "80643  1.721643e+09   -0.001513    0.315025\n",
      "80644  1.721643e+09   -0.001507    0.315049\n",
      "80645  1.721643e+09   -0.001511    0.315045\n",
      "Cleaned and combined data saved to ./cleaned_D.csv\n"
     ]
    }
   ],
   "source": [
    "import pandas as pd\n",
    "import glob\n",
    "import os\n",
    "import re\n",
    "\n",
    "print(\"start\")\n",
    "# Define the list of file directories\n",
    "directory_paths = ['DataSet/D/']\n",
    "pattern = re.compile(r'ee.*\\.csv')\n",
    "\n",
    "# Store all filtered file paths\n",
    "filtered_files = []\n",
    "\n",
    "# Traverse each directory to obtain eligible files\n",
    "for directory_path in directory_paths:\n",
    "    all_files = glob.glob(os.path.join(directory_path, \"*.csv\"))\n",
    "    filtered_files.extend([f for f in all_files if pattern.match(os.path.basename(f))])\n",
    "\n",
    "# Read and merge all files\n",
    "dataframes = [pd.read_csv(f) for f in filtered_files]\n",
    "combined_data = pd.concat(dataframes, ignore_index=True)\n",
    "\n",
    "# Make sure that the timestamp or sequence number is in order\n",
    "\n",
    "# Make sure that the timestamp column is correct, and merge the second and nanosecond columns\n",
    "combined_data['timestamp'] = combined_data.iloc[:, 1] + combined_data.iloc[:, 2] / 1e9\n",
    "\n",
    "# Sort by timestamp and remove all zero lines\n",
    "combined_data = combined_data[(combined_data.T != 0).any()]\n",
    "combined_data = combined_data.sort_values(by='timestamp')\n",
    "\n",
    "#Delete the original timestamp column, keep only the required columns, and rename the column\n",
    "combined_data = combined_data[['timestamp', combined_data.columns[4], combined_data.columns[5]]]\n",
    "combined_data.columns = ['timestamp', 'position-y', 'position-z']\n",
    "\n",
    "# Save the cleaned data to the new CSV file\n",
    "output_file_path = './cleaned_D.csv'\n",
    "combined_data.to_csv(output_file_path, index=False)\n",
    "\n",
    "#Print the first few lines to verify\n",
    "print(combined_data.head())\n",
    "\n",
    "print(f\"Cleaned and combined data saved to {output_file_path}\")"
   ]
  },
  {
   "cell_type": "code",
   "execution_count": null,
   "id": "3d628b17-0303-4b27-9a2c-5c5b8308cc61",
   "metadata": {},
   "outputs": [],
   "source": []
  },
  {
   "cell_type": "code",
   "execution_count": null,
   "id": "ed8bd554-9f5a-4d66-8c52-eda82f225dc9",
   "metadata": {},
   "outputs": [],
   "source": []
  },
  {
   "cell_type": "code",
   "execution_count": null,
   "id": "559a2118-f441-497a-80fa-bdfead9ffa19",
   "metadata": {},
   "outputs": [],
   "source": []
  },
  {
   "cell_type": "code",
   "execution_count": null,
   "id": "9f44df36-eea3-450f-a02e-2e98f03c9015",
   "metadata": {},
   "outputs": [],
   "source": []
  }
 ],
 "metadata": {
  "kernelspec": {
   "display_name": "Python 3 (ipykernel)",
   "language": "python",
   "name": "python3"
  },
  "language_info": {
   "codemirror_mode": {
    "name": "ipython",
    "version": 3
   },
   "file_extension": ".py",
   "mimetype": "text/x-python",
   "name": "python",
   "nbconvert_exporter": "python",
   "pygments_lexer": "ipython3",
   "version": "3.10.14"
  }
 },
 "nbformat": 4,
 "nbformat_minor": 5
}
